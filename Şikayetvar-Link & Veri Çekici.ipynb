{
 "cells": [
  {
   "cell_type": "markdown",
   "id": "05f79921",
   "metadata": {},
   "source": [
    "# Herhangi bir markanın linkini şikayetvar sitesinden çekip daha sonra yorumlarını alan kod. <br>\n",
    "### Link kısmına belirlediğim firmaların şikayetvar linklerini yazıp aynı kodu onlar için de kullanıyorum. <br>\n",
    "### Bu kodun sahip olduğu ağımlılık listesi daha sonraki güncellemelerde eklenecek."
   ]
  },
  {
   "cell_type": "code",
   "execution_count": null,
   "id": "c8d7bd13",
   "metadata": {
    "scrolled": true
   },
   "outputs": [],
   "source": [
    "from selenium import webdriver\n",
    "from selenium.webdriver.chrome.service import Service\n",
    "from webdriver_manager.chrome import ChromeDriverManager\n",
    "from selenium.webdriver.chrome.options import Options\n",
    "from selenium.webdriver.common.by import By\n",
    "import time\n",
    "\n",
    "options = Options()\n",
    "options.add_argument(\"--headless\")\n",
    "options.add_argument(\"--incognito\") \n",
    "\n",
    "driver = webdriver.Chrome(service=Service(ChromeDriverManager().install()), options=options)\n",
    "\n",
    "try:\n",
    "    base_url = \"https://www.sikayetvar.com/turkcell\" \n",
    "    page_limit = 100  # İşlenecek sayfa sayısı -- genelde 1500 üzeri yoruma denk geliyor, başlangıç için yeterli\n",
    "    all_links = []\n",
    "\n",
    "    for page in range(1, page_limit + 1):\n",
    "        try:\n",
    "            page_url = f\"{base_url}?page={page}\"\n",
    "            \n",
    "            driver.get(page_url)\n",
    "\n",
    "            time.sleep(5)\n",
    "\n",
    "            complaint_cards = driver.find_elements(By.CSS_SELECTOR, 'article.card-v2.ga-v.ga-c')\n",
    "\n",
    "            for card in complaint_cards:\n",
    "                link_element = card.find_element(By.CSS_SELECTOR, 'h2.complaint-title a')\n",
    "                link = link_element.get_attribute('href')\n",
    "                all_links.append(link)\n",
    "                print(f\"Link: {link}\")\n",
    "        except Exception:\n",
    "            pass  \n",
    "\n",
    "finally:\n",
    "    driver.quit()\n",
    "\n",
    "print(f\"Toplam {len(all_links)} link toplandı.\")\n"
   ]
  },
  {
   "cell_type": "code",
   "execution_count": null,
   "id": "aef71bae",
   "metadata": {},
   "outputs": [],
   "source": [
    "import pandas as pd"
   ]
  },
  {
   "cell_type": "code",
   "execution_count": null,
   "id": "65871058",
   "metadata": {},
   "outputs": [],
   "source": [
    "# Daha önceden topladığın linkleri yükleyip yorumlarını çekmek istersen:\n",
    "#df = pd.read_csv(\"Vodafone_100_sayfa_link.csv\")"
   ]
  },
  {
   "cell_type": "code",
   "execution_count": null,
   "id": "74b3ebac",
   "metadata": {},
   "outputs": [],
   "source": [
    "df = pd.DataFrame(all_links, columns=[\"Link\"])"
   ]
  },
  {
   "cell_type": "code",
   "execution_count": null,
   "id": "f53a0e46",
   "metadata": {},
   "outputs": [],
   "source": [
    "df"
   ]
  },
  {
   "cell_type": "code",
   "execution_count": null,
   "id": "bbbca2ac",
   "metadata": {},
   "outputs": [],
   "source": [
    "df.to_csv(\"Turkcell_100_sayfa_link.csv\", index=False)\n",
    "# Linkleri daha sonra tekrar kullanmak üzere kaydediyorum."
   ]
  },
  {
   "cell_type": "code",
   "execution_count": null,
   "id": "6c1af18c",
   "metadata": {},
   "outputs": [],
   "source": [
    "# 0. index ile 200. index arasındaki verileri aldığım için bu isimlendirmeyi yaptım.\n",
    "turkcell_0_200_ = df[0:200]\n",
    "turkcell_0_200_\n",
    "turkcell_0_200 = turkcell_0_200_[\"Link\"].tolist()"
   ]
  },
  {
   "cell_type": "code",
   "execution_count": null,
   "id": "0b1c211a",
   "metadata": {},
   "outputs": [],
   "source": [
    "turkcell_0_200_"
   ]
  },
  {
   "cell_type": "code",
   "execution_count": null,
   "id": "45767f64",
   "metadata": {
    "scrolled": true
   },
   "outputs": [],
   "source": [
    "turkcell_0_200"
   ]
  },
  {
   "cell_type": "markdown",
   "id": "338d80a0",
   "metadata": {},
   "source": [
    "# Yorum çekici"
   ]
  },
  {
   "cell_type": "code",
   "execution_count": null,
   "id": "e8e5bf13",
   "metadata": {},
   "outputs": [],
   "source": [
    "from selenium import webdriver\n",
    "from selenium.webdriver.chrome.service import Service\n",
    "from webdriver_manager.chrome import ChromeDriverManager\n",
    "from selenium.webdriver.chrome.options import Options\n",
    "from selenium.webdriver.common.by import By\n",
    "import time\n",
    "\n",
    "def get_full_review(review_url):\n",
    "    options = Options()\n",
    "    options.add_argument(\"--headless\")\n",
    "    options.add_argument(\"--incognito\")\n",
    "    driver = webdriver.Chrome(service=Service(ChromeDriverManager().install()), options=options)\n",
    "    \n",
    "    review_text = \"\"\n",
    "    try:\n",
    "        driver.get(review_url)\n",
    "        time.sleep(1)\n",
    "\n",
    "\n",
    "        full_review_element = driver.find_element(By.CLASS_NAME, 'complaint-detail-description')\n",
    "        review_text = full_review_element.text\n",
    "    except Exception:\n",
    "        pass \n",
    "    finally:\n",
    "        driver.quit()\n",
    "    \n",
    "    return review_text\n",
    "\n",
    "\n",
    "review_links = turkcell_0_200.copy()\n",
    "\n",
    "\n",
    "reviews = []\n",
    "for idx, link in enumerate(review_links, 1):\n",
    "    print(f\"İnceleme yükleniyor {idx}/{len(review_links)}: {link}\")\n",
    "    full_review = get_full_review(link)\n",
    "    reviews.append(full_review)\n",
    "\n",
    "for idx, review in enumerate(reviews, 1):\n",
    "    print(f\"İnceleme {idx}:\\n{review}\\n\")\n"
   ]
  },
  {
   "cell_type": "code",
   "execution_count": null,
   "id": "6a97670a",
   "metadata": {
    "scrolled": true
   },
   "outputs": [],
   "source": [
    "reviews"
   ]
  },
  {
   "cell_type": "code",
   "execution_count": null,
   "id": "16a94133",
   "metadata": {},
   "outputs": [],
   "source": [
    "df_review = pd.DataFrame(reviews, columns=[\"Yorum\"])"
   ]
  },
  {
   "cell_type": "code",
   "execution_count": null,
   "id": "6a7c32d4",
   "metadata": {
    "scrolled": false
   },
   "outputs": [],
   "source": [
    "df_review"
   ]
  },
  {
   "cell_type": "code",
   "execution_count": null,
   "id": "64d4a3e5",
   "metadata": {},
   "outputs": [],
   "source": [
    "df_review.to_csv(\"Turkcell_yorum_0_to_200.csv\", index=False)\n",
    "# Bilgisayara daha sonra kullanmak üzere kaydediyorum."
   ]
  },
  {
   "cell_type": "code",
   "execution_count": null,
   "id": "33bcc246",
   "metadata": {},
   "outputs": [],
   "source": []
  }
 ],
 "metadata": {
  "kernelspec": {
   "display_name": "Python 3 (ipykernel)",
   "language": "python",
   "name": "python3"
  },
  "language_info": {
   "codemirror_mode": {
    "name": "ipython",
    "version": 3
   },
   "file_extension": ".py",
   "mimetype": "text/x-python",
   "name": "python",
   "nbconvert_exporter": "python",
   "pygments_lexer": "ipython3",
   "version": "3.9.16"
  }
 },
 "nbformat": 4,
 "nbformat_minor": 5
}
